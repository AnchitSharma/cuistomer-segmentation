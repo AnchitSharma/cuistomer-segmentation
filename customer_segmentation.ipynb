{
  "nbformat": 4,
  "nbformat_minor": 0,
  "metadata": {
    "colab": {
      "name": "customer segmentation.ipynb",
      "provenance": [],
      "collapsed_sections": [],
      "authorship_tag": "ABX9TyNrLyNUXXM6ioLR1YdkQQov",
      "include_colab_link": true
    },
    "kernelspec": {
      "name": "python3",
      "display_name": "Python 3"
    }
  },
  "cells": [
    {
      "cell_type": "markdown",
      "metadata": {
        "id": "view-in-github",
        "colab_type": "text"
      },
      "source": [
        "<a href=\"https://colab.research.google.com/github/AnchitSharma/cuistomer-segmentation/blob/master/customer_segmentation.ipynb\" target=\"_parent\"><img src=\"https://colab.research.google.com/assets/colab-badge.svg\" alt=\"Open In Colab\"/></a>"
      ]
    },
    {
      "cell_type": "code",
      "metadata": {
        "id": "1uKOnRHw-LB-",
        "colab_type": "code",
        "colab": {}
      },
      "source": [
        "# Data manipulation Libraries\n",
        "import numpy as np\n",
        "import pandas as pd\n",
        "# Data Viz\n",
        "import matplotlib.pyplot as plt\n",
        "# Scikit-Learn ML Libraries\n",
        "from sklearn.preprocessing import *\n",
        "from sklearn.model_selection import *\n",
        "from sklearn.metrics import *"
      ],
      "execution_count": 1,
      "outputs": []
    },
    {
      "cell_type": "code",
      "metadata": {
        "id": "F43vpabJA4D4",
        "colab_type": "code",
        "colab": {}
      },
      "source": [
        "# Boosting Algorithm Libraries\n",
        "from xgboost import XGBClassifier\n",
        "# from catboost import CatBoostClassifier\n",
        "from lightgbm import LGBMClassifier\n",
        "from sklearn.ensemble import RandomForestClassifier, VotingClassifier\n",
        "from sklearn.metrics import accuracy_score\n",
        "from sklearn.model_selection import StratifiedKFold, KFold"
      ],
      "execution_count": 2,
      "outputs": []
    },
    {
      "cell_type": "markdown",
      "metadata": {
        "id": "pS8yNWeNCEtU",
        "colab_type": "text"
      },
      "source": [
        "Load Data\n",
        "\n",
        "https://www.kaggle.com/vetrirah/customer"
      ]
    },
    {
      "cell_type": "code",
      "metadata": {
        "id": "WGWW-IF2Bc7M",
        "colab_type": "code",
        "colab": {}
      },
      "source": [
        "train = pd.read_csv(\"https://raw.githubusercontent.com/AnchitSharma/cuistomer-segmentation/master/customers_data/Train.csv\")\n",
        "test = pd.read_csv(\"https://raw.githubusercontent.com/AnchitSharma/cuistomer-segmentation/master/customers_data/Test.csv\")\n",
        "sub = pd.read_csv(\"https://raw.githubusercontent.com/AnchitSharma/cuistomer-segmentation/master/customers_data/sample_submission.csv\")"
      ],
      "execution_count": 3,
      "outputs": []
    },
    {
      "cell_type": "code",
      "metadata": {
        "id": "oMODxFGvCeMR",
        "colab_type": "code",
        "colab": {
          "base_uri": "https://localhost:8080/",
          "height": 204
        },
        "outputId": "d8fb8d91-aa4a-4cc3-cffe-d1cdb0596b32"
      },
      "source": [
        "train.head()"
      ],
      "execution_count": 4,
      "outputs": [
        {
          "output_type": "execute_result",
          "data": {
            "text/html": [
              "<div>\n",
              "<style scoped>\n",
              "    .dataframe tbody tr th:only-of-type {\n",
              "        vertical-align: middle;\n",
              "    }\n",
              "\n",
              "    .dataframe tbody tr th {\n",
              "        vertical-align: top;\n",
              "    }\n",
              "\n",
              "    .dataframe thead th {\n",
              "        text-align: right;\n",
              "    }\n",
              "</style>\n",
              "<table border=\"1\" class=\"dataframe\">\n",
              "  <thead>\n",
              "    <tr style=\"text-align: right;\">\n",
              "      <th></th>\n",
              "      <th>ID</th>\n",
              "      <th>Gender</th>\n",
              "      <th>Ever_Married</th>\n",
              "      <th>Age</th>\n",
              "      <th>Graduated</th>\n",
              "      <th>Profession</th>\n",
              "      <th>Work_Experience</th>\n",
              "      <th>Spending_Score</th>\n",
              "      <th>Family_Size</th>\n",
              "      <th>Var_1</th>\n",
              "      <th>Segmentation</th>\n",
              "    </tr>\n",
              "  </thead>\n",
              "  <tbody>\n",
              "    <tr>\n",
              "      <th>0</th>\n",
              "      <td>462809</td>\n",
              "      <td>Male</td>\n",
              "      <td>No</td>\n",
              "      <td>22</td>\n",
              "      <td>No</td>\n",
              "      <td>Healthcare</td>\n",
              "      <td>1.0</td>\n",
              "      <td>Low</td>\n",
              "      <td>4.0</td>\n",
              "      <td>Cat_4</td>\n",
              "      <td>D</td>\n",
              "    </tr>\n",
              "    <tr>\n",
              "      <th>1</th>\n",
              "      <td>462643</td>\n",
              "      <td>Female</td>\n",
              "      <td>Yes</td>\n",
              "      <td>38</td>\n",
              "      <td>Yes</td>\n",
              "      <td>Engineer</td>\n",
              "      <td>NaN</td>\n",
              "      <td>Average</td>\n",
              "      <td>3.0</td>\n",
              "      <td>Cat_4</td>\n",
              "      <td>A</td>\n",
              "    </tr>\n",
              "    <tr>\n",
              "      <th>2</th>\n",
              "      <td>466315</td>\n",
              "      <td>Female</td>\n",
              "      <td>Yes</td>\n",
              "      <td>67</td>\n",
              "      <td>Yes</td>\n",
              "      <td>Engineer</td>\n",
              "      <td>1.0</td>\n",
              "      <td>Low</td>\n",
              "      <td>1.0</td>\n",
              "      <td>Cat_6</td>\n",
              "      <td>B</td>\n",
              "    </tr>\n",
              "    <tr>\n",
              "      <th>3</th>\n",
              "      <td>461735</td>\n",
              "      <td>Male</td>\n",
              "      <td>Yes</td>\n",
              "      <td>67</td>\n",
              "      <td>Yes</td>\n",
              "      <td>Lawyer</td>\n",
              "      <td>0.0</td>\n",
              "      <td>High</td>\n",
              "      <td>2.0</td>\n",
              "      <td>Cat_6</td>\n",
              "      <td>B</td>\n",
              "    </tr>\n",
              "    <tr>\n",
              "      <th>4</th>\n",
              "      <td>462669</td>\n",
              "      <td>Female</td>\n",
              "      <td>Yes</td>\n",
              "      <td>40</td>\n",
              "      <td>Yes</td>\n",
              "      <td>Entertainment</td>\n",
              "      <td>NaN</td>\n",
              "      <td>High</td>\n",
              "      <td>6.0</td>\n",
              "      <td>Cat_6</td>\n",
              "      <td>A</td>\n",
              "    </tr>\n",
              "  </tbody>\n",
              "</table>\n",
              "</div>"
            ],
            "text/plain": [
              "       ID  Gender Ever_Married  ...  Family_Size  Var_1 Segmentation\n",
              "0  462809    Male           No  ...          4.0  Cat_4            D\n",
              "1  462643  Female          Yes  ...          3.0  Cat_4            A\n",
              "2  466315  Female          Yes  ...          1.0  Cat_6            B\n",
              "3  461735    Male          Yes  ...          2.0  Cat_6            B\n",
              "4  462669  Female          Yes  ...          6.0  Cat_6            A\n",
              "\n",
              "[5 rows x 11 columns]"
            ]
          },
          "metadata": {
            "tags": []
          },
          "execution_count": 4
        }
      ]
    },
    {
      "cell_type": "markdown",
      "metadata": {
        "id": "0hBoZOV9C4ti",
        "colab_type": "text"
      },
      "source": [
        "Perform EDA (Exploratory Data Analysis) \n",
        "\n",
        "Explore Test and Train Data and get to know what each Column/Feature denotes"
      ]
    },
    {
      "cell_type": "code",
      "metadata": {
        "id": "SU2cspW1CgtR",
        "colab_type": "code",
        "colab": {
          "base_uri": "https://localhost:8080/",
          "height": 731
        },
        "outputId": "1197d432-6547-43ae-b1e3-6d34b920f67e"
      },
      "source": [
        "def display_data_information(data, data_types, dataframe_name):\n",
        "  print(\"Information of \", dataframe_name, \"Rows = \", data.shape[0], \"| columns = \", data.shape[1], \"\\n\")\n",
        "  data.info()\n",
        "\n",
        "  print(\"\\n\")\n",
        "  for VARIABLE in data_types:\n",
        "    data_type = data.select_dtypes(include=[ VARIABLE ]).dtypes\n",
        "\n",
        "    if len(data_type) > 0:\n",
        "      print(str(len(data_type)) + \" \"+VARIABLE+\" Features\\n\"+str(data_type)+\"\\n\" )\n",
        "\n",
        "\n",
        "# Display Data Information of \"train: :\n",
        "data_types = [\"float32\", \"float64\", \"int32\", \"int64\", \"object\", \"category\", \"datetime64[ns]\"]\n",
        "display_data_information(train, data_types, \"train\")"
      ],
      "execution_count": 5,
      "outputs": [
        {
          "output_type": "stream",
          "text": [
            "Information of  train Rows =  8068 | columns =  11 \n",
            "\n",
            "<class 'pandas.core.frame.DataFrame'>\n",
            "RangeIndex: 8068 entries, 0 to 8067\n",
            "Data columns (total 11 columns):\n",
            " #   Column           Non-Null Count  Dtype  \n",
            "---  ------           --------------  -----  \n",
            " 0   ID               8068 non-null   int64  \n",
            " 1   Gender           8068 non-null   object \n",
            " 2   Ever_Married     7928 non-null   object \n",
            " 3   Age              8068 non-null   int64  \n",
            " 4   Graduated        7990 non-null   object \n",
            " 5   Profession       7944 non-null   object \n",
            " 6   Work_Experience  7239 non-null   float64\n",
            " 7   Spending_Score   8068 non-null   object \n",
            " 8   Family_Size      7733 non-null   float64\n",
            " 9   Var_1            7992 non-null   object \n",
            " 10  Segmentation     8068 non-null   object \n",
            "dtypes: float64(2), int64(2), object(7)\n",
            "memory usage: 693.5+ KB\n",
            "\n",
            "\n",
            "2 float64 Features\n",
            "Work_Experience    float64\n",
            "Family_Size        float64\n",
            "dtype: object\n",
            "\n",
            "2 int64 Features\n",
            "ID     int64\n",
            "Age    int64\n",
            "dtype: object\n",
            "\n",
            "7 object Features\n",
            "Gender            object\n",
            "Ever_Married      object\n",
            "Graduated         object\n",
            "Profession        object\n",
            "Spending_Score    object\n",
            "Var_1             object\n",
            "Segmentation      object\n",
            "dtype: object\n",
            "\n"
          ],
          "name": "stdout"
        }
      ]
    },
    {
      "cell_type": "code",
      "metadata": {
        "id": "s7GAHnRBGxTi",
        "colab_type": "code",
        "colab": {
          "base_uri": "https://localhost:8080/",
          "height": 697
        },
        "outputId": "9a6636db-c615-46ca-f9b7-f0145faba436"
      },
      "source": [
        "# train.select_dtypes(include=[\"float64\"]).dtypes\n",
        "display_data_information(test, data_types, \"test\")"
      ],
      "execution_count": 6,
      "outputs": [
        {
          "output_type": "stream",
          "text": [
            "Information of  test Rows =  2627 | columns =  10 \n",
            "\n",
            "<class 'pandas.core.frame.DataFrame'>\n",
            "RangeIndex: 2627 entries, 0 to 2626\n",
            "Data columns (total 10 columns):\n",
            " #   Column           Non-Null Count  Dtype  \n",
            "---  ------           --------------  -----  \n",
            " 0   ID               2627 non-null   int64  \n",
            " 1   Gender           2627 non-null   object \n",
            " 2   Ever_Married     2577 non-null   object \n",
            " 3   Age              2627 non-null   int64  \n",
            " 4   Graduated        2603 non-null   object \n",
            " 5   Profession       2589 non-null   object \n",
            " 6   Work_Experience  2358 non-null   float64\n",
            " 7   Spending_Score   2627 non-null   object \n",
            " 8   Family_Size      2514 non-null   float64\n",
            " 9   Var_1            2595 non-null   object \n",
            "dtypes: float64(2), int64(2), object(6)\n",
            "memory usage: 205.4+ KB\n",
            "\n",
            "\n",
            "2 float64 Features\n",
            "Work_Experience    float64\n",
            "Family_Size        float64\n",
            "dtype: object\n",
            "\n",
            "2 int64 Features\n",
            "ID     int64\n",
            "Age    int64\n",
            "dtype: object\n",
            "\n",
            "6 object Features\n",
            "Gender            object\n",
            "Ever_Married      object\n",
            "Graduated         object\n",
            "Profession        object\n",
            "Spending_Score    object\n",
            "Var_1             object\n",
            "dtype: object\n",
            "\n"
          ],
          "name": "stdout"
        }
      ]
    },
    {
      "cell_type": "markdown",
      "metadata": {
        "id": "Ign1D-z7JIuP",
        "colab_type": "text"
      },
      "source": [
        "Display head and tail of the dataframe"
      ]
    },
    {
      "cell_type": "code",
      "metadata": {
        "id": "puCyv1XfHeWy",
        "colab_type": "code",
        "colab": {
          "base_uri": "https://localhost:8080/",
          "height": 222
        },
        "outputId": "de2a1890-ce49-4f96-a305-36d35aa83314"
      },
      "source": [
        "def display_head_tail(data, head_rows, tail_rows):\n",
        "  display(\"Data Head & Tail : \")\n",
        "  display(data.head(head_rows).append(data.tail(tail_rows)))\n",
        "\n",
        "display_head_tail(train, head_rows=3, tail_rows=2)"
      ],
      "execution_count": 7,
      "outputs": [
        {
          "output_type": "display_data",
          "data": {
            "application/vnd.google.colaboratory.intrinsic+json": {
              "type": "string"
            },
            "text/plain": [
              "'Data Head & Tail : '"
            ]
          },
          "metadata": {
            "tags": []
          }
        },
        {
          "output_type": "display_data",
          "data": {
            "text/html": [
              "<div>\n",
              "<style scoped>\n",
              "    .dataframe tbody tr th:only-of-type {\n",
              "        vertical-align: middle;\n",
              "    }\n",
              "\n",
              "    .dataframe tbody tr th {\n",
              "        vertical-align: top;\n",
              "    }\n",
              "\n",
              "    .dataframe thead th {\n",
              "        text-align: right;\n",
              "    }\n",
              "</style>\n",
              "<table border=\"1\" class=\"dataframe\">\n",
              "  <thead>\n",
              "    <tr style=\"text-align: right;\">\n",
              "      <th></th>\n",
              "      <th>ID</th>\n",
              "      <th>Gender</th>\n",
              "      <th>Ever_Married</th>\n",
              "      <th>Age</th>\n",
              "      <th>Graduated</th>\n",
              "      <th>Profession</th>\n",
              "      <th>Work_Experience</th>\n",
              "      <th>Spending_Score</th>\n",
              "      <th>Family_Size</th>\n",
              "      <th>Var_1</th>\n",
              "      <th>Segmentation</th>\n",
              "    </tr>\n",
              "  </thead>\n",
              "  <tbody>\n",
              "    <tr>\n",
              "      <th>0</th>\n",
              "      <td>462809</td>\n",
              "      <td>Male</td>\n",
              "      <td>No</td>\n",
              "      <td>22</td>\n",
              "      <td>No</td>\n",
              "      <td>Healthcare</td>\n",
              "      <td>1.0</td>\n",
              "      <td>Low</td>\n",
              "      <td>4.0</td>\n",
              "      <td>Cat_4</td>\n",
              "      <td>D</td>\n",
              "    </tr>\n",
              "    <tr>\n",
              "      <th>1</th>\n",
              "      <td>462643</td>\n",
              "      <td>Female</td>\n",
              "      <td>Yes</td>\n",
              "      <td>38</td>\n",
              "      <td>Yes</td>\n",
              "      <td>Engineer</td>\n",
              "      <td>NaN</td>\n",
              "      <td>Average</td>\n",
              "      <td>3.0</td>\n",
              "      <td>Cat_4</td>\n",
              "      <td>A</td>\n",
              "    </tr>\n",
              "    <tr>\n",
              "      <th>2</th>\n",
              "      <td>466315</td>\n",
              "      <td>Female</td>\n",
              "      <td>Yes</td>\n",
              "      <td>67</td>\n",
              "      <td>Yes</td>\n",
              "      <td>Engineer</td>\n",
              "      <td>1.0</td>\n",
              "      <td>Low</td>\n",
              "      <td>1.0</td>\n",
              "      <td>Cat_6</td>\n",
              "      <td>B</td>\n",
              "    </tr>\n",
              "    <tr>\n",
              "      <th>8066</th>\n",
              "      <td>467299</td>\n",
              "      <td>Female</td>\n",
              "      <td>No</td>\n",
              "      <td>27</td>\n",
              "      <td>Yes</td>\n",
              "      <td>Healthcare</td>\n",
              "      <td>1.0</td>\n",
              "      <td>Low</td>\n",
              "      <td>4.0</td>\n",
              "      <td>Cat_6</td>\n",
              "      <td>B</td>\n",
              "    </tr>\n",
              "    <tr>\n",
              "      <th>8067</th>\n",
              "      <td>461879</td>\n",
              "      <td>Male</td>\n",
              "      <td>Yes</td>\n",
              "      <td>37</td>\n",
              "      <td>Yes</td>\n",
              "      <td>Executive</td>\n",
              "      <td>0.0</td>\n",
              "      <td>Average</td>\n",
              "      <td>3.0</td>\n",
              "      <td>Cat_4</td>\n",
              "      <td>B</td>\n",
              "    </tr>\n",
              "  </tbody>\n",
              "</table>\n",
              "</div>"
            ],
            "text/plain": [
              "          ID  Gender Ever_Married  ...  Family_Size  Var_1 Segmentation\n",
              "0     462809    Male           No  ...          4.0  Cat_4            D\n",
              "1     462643  Female          Yes  ...          3.0  Cat_4            A\n",
              "2     466315  Female          Yes  ...          1.0  Cat_6            B\n",
              "8066  467299  Female           No  ...          4.0  Cat_6            B\n",
              "8067  461879    Male          Yes  ...          3.0  Cat_4            B\n",
              "\n",
              "[5 rows x 11 columns]"
            ]
          },
          "metadata": {
            "tags": []
          }
        }
      ]
    },
    {
      "cell_type": "code",
      "metadata": {
        "id": "9haRHKb4J6Cc",
        "colab_type": "code",
        "colab": {
          "base_uri": "https://localhost:8080/",
          "height": 222
        },
        "outputId": "8b6a1879-f3ab-49ac-d317-97a4a3b46915"
      },
      "source": [
        "display_head_tail(test, head_rows=3, tail_rows=2)"
      ],
      "execution_count": 8,
      "outputs": [
        {
          "output_type": "display_data",
          "data": {
            "application/vnd.google.colaboratory.intrinsic+json": {
              "type": "string"
            },
            "text/plain": [
              "'Data Head & Tail : '"
            ]
          },
          "metadata": {
            "tags": []
          }
        },
        {
          "output_type": "display_data",
          "data": {
            "text/html": [
              "<div>\n",
              "<style scoped>\n",
              "    .dataframe tbody tr th:only-of-type {\n",
              "        vertical-align: middle;\n",
              "    }\n",
              "\n",
              "    .dataframe tbody tr th {\n",
              "        vertical-align: top;\n",
              "    }\n",
              "\n",
              "    .dataframe thead th {\n",
              "        text-align: right;\n",
              "    }\n",
              "</style>\n",
              "<table border=\"1\" class=\"dataframe\">\n",
              "  <thead>\n",
              "    <tr style=\"text-align: right;\">\n",
              "      <th></th>\n",
              "      <th>ID</th>\n",
              "      <th>Gender</th>\n",
              "      <th>Ever_Married</th>\n",
              "      <th>Age</th>\n",
              "      <th>Graduated</th>\n",
              "      <th>Profession</th>\n",
              "      <th>Work_Experience</th>\n",
              "      <th>Spending_Score</th>\n",
              "      <th>Family_Size</th>\n",
              "      <th>Var_1</th>\n",
              "    </tr>\n",
              "  </thead>\n",
              "  <tbody>\n",
              "    <tr>\n",
              "      <th>0</th>\n",
              "      <td>458989</td>\n",
              "      <td>Female</td>\n",
              "      <td>Yes</td>\n",
              "      <td>36</td>\n",
              "      <td>Yes</td>\n",
              "      <td>Engineer</td>\n",
              "      <td>0.0</td>\n",
              "      <td>Low</td>\n",
              "      <td>1.0</td>\n",
              "      <td>Cat_6</td>\n",
              "    </tr>\n",
              "    <tr>\n",
              "      <th>1</th>\n",
              "      <td>458994</td>\n",
              "      <td>Male</td>\n",
              "      <td>Yes</td>\n",
              "      <td>37</td>\n",
              "      <td>Yes</td>\n",
              "      <td>Healthcare</td>\n",
              "      <td>8.0</td>\n",
              "      <td>Average</td>\n",
              "      <td>4.0</td>\n",
              "      <td>Cat_6</td>\n",
              "    </tr>\n",
              "    <tr>\n",
              "      <th>2</th>\n",
              "      <td>458996</td>\n",
              "      <td>Female</td>\n",
              "      <td>Yes</td>\n",
              "      <td>69</td>\n",
              "      <td>No</td>\n",
              "      <td>NaN</td>\n",
              "      <td>0.0</td>\n",
              "      <td>Low</td>\n",
              "      <td>1.0</td>\n",
              "      <td>Cat_6</td>\n",
              "    </tr>\n",
              "    <tr>\n",
              "      <th>2625</th>\n",
              "      <td>467961</td>\n",
              "      <td>Male</td>\n",
              "      <td>Yes</td>\n",
              "      <td>47</td>\n",
              "      <td>Yes</td>\n",
              "      <td>Executive</td>\n",
              "      <td>1.0</td>\n",
              "      <td>High</td>\n",
              "      <td>5.0</td>\n",
              "      <td>Cat_4</td>\n",
              "    </tr>\n",
              "    <tr>\n",
              "      <th>2626</th>\n",
              "      <td>467968</td>\n",
              "      <td>Female</td>\n",
              "      <td>No</td>\n",
              "      <td>43</td>\n",
              "      <td>Yes</td>\n",
              "      <td>Healthcare</td>\n",
              "      <td>9.0</td>\n",
              "      <td>Low</td>\n",
              "      <td>3.0</td>\n",
              "      <td>Cat_7</td>\n",
              "    </tr>\n",
              "  </tbody>\n",
              "</table>\n",
              "</div>"
            ],
            "text/plain": [
              "          ID  Gender Ever_Married  ...  Spending_Score Family_Size  Var_1\n",
              "0     458989  Female          Yes  ...             Low         1.0  Cat_6\n",
              "1     458994    Male          Yes  ...         Average         4.0  Cat_6\n",
              "2     458996  Female          Yes  ...             Low         1.0  Cat_6\n",
              "2625  467961    Male          Yes  ...            High         5.0  Cat_4\n",
              "2626  467968  Female           No  ...             Low         3.0  Cat_7\n",
              "\n",
              "[5 rows x 10 columns]"
            ]
          },
          "metadata": {
            "tags": []
          }
        }
      ]
    },
    {
      "cell_type": "code",
      "metadata": {
        "id": "_6BQUoxjKv6V",
        "colab_type": "code",
        "colab": {}
      },
      "source": [
        "def display_data_description(data, numeric_data_types, categorical_data_type):\n",
        "  print(\" Data Description \")\n",
        "  display(data.describe(include =  numeric_data_types))\n",
        "  print(\" \")\n",
        "  display(data.describe(include = categorical_data_type))"
      ],
      "execution_count": 9,
      "outputs": []
    },
    {
      "cell_type": "code",
      "metadata": {
        "id": "HyCoPsTUM7dY",
        "colab_type": "code",
        "colab": {
          "base_uri": "https://localhost:8080/",
          "height": 487
        },
        "outputId": "b0d2bc3a-f01e-4943-f707-d1de38210f9b"
      },
      "source": [
        "display_data_description(train, data_types[0:4], data_types[4:7])"
      ],
      "execution_count": 10,
      "outputs": [
        {
          "output_type": "stream",
          "text": [
            " Data Description \n"
          ],
          "name": "stdout"
        },
        {
          "output_type": "display_data",
          "data": {
            "text/html": [
              "<div>\n",
              "<style scoped>\n",
              "    .dataframe tbody tr th:only-of-type {\n",
              "        vertical-align: middle;\n",
              "    }\n",
              "\n",
              "    .dataframe tbody tr th {\n",
              "        vertical-align: top;\n",
              "    }\n",
              "\n",
              "    .dataframe thead th {\n",
              "        text-align: right;\n",
              "    }\n",
              "</style>\n",
              "<table border=\"1\" class=\"dataframe\">\n",
              "  <thead>\n",
              "    <tr style=\"text-align: right;\">\n",
              "      <th></th>\n",
              "      <th>ID</th>\n",
              "      <th>Age</th>\n",
              "      <th>Work_Experience</th>\n",
              "      <th>Family_Size</th>\n",
              "    </tr>\n",
              "  </thead>\n",
              "  <tbody>\n",
              "    <tr>\n",
              "      <th>count</th>\n",
              "      <td>8068.000000</td>\n",
              "      <td>8068.000000</td>\n",
              "      <td>7239.000000</td>\n",
              "      <td>7733.000000</td>\n",
              "    </tr>\n",
              "    <tr>\n",
              "      <th>mean</th>\n",
              "      <td>463479.214551</td>\n",
              "      <td>43.466906</td>\n",
              "      <td>2.641663</td>\n",
              "      <td>2.850123</td>\n",
              "    </tr>\n",
              "    <tr>\n",
              "      <th>std</th>\n",
              "      <td>2595.381232</td>\n",
              "      <td>16.711696</td>\n",
              "      <td>3.406763</td>\n",
              "      <td>1.531413</td>\n",
              "    </tr>\n",
              "    <tr>\n",
              "      <th>min</th>\n",
              "      <td>458982.000000</td>\n",
              "      <td>18.000000</td>\n",
              "      <td>0.000000</td>\n",
              "      <td>1.000000</td>\n",
              "    </tr>\n",
              "    <tr>\n",
              "      <th>25%</th>\n",
              "      <td>461240.750000</td>\n",
              "      <td>30.000000</td>\n",
              "      <td>0.000000</td>\n",
              "      <td>2.000000</td>\n",
              "    </tr>\n",
              "    <tr>\n",
              "      <th>50%</th>\n",
              "      <td>463472.500000</td>\n",
              "      <td>40.000000</td>\n",
              "      <td>1.000000</td>\n",
              "      <td>3.000000</td>\n",
              "    </tr>\n",
              "    <tr>\n",
              "      <th>75%</th>\n",
              "      <td>465744.250000</td>\n",
              "      <td>53.000000</td>\n",
              "      <td>4.000000</td>\n",
              "      <td>4.000000</td>\n",
              "    </tr>\n",
              "    <tr>\n",
              "      <th>max</th>\n",
              "      <td>467974.000000</td>\n",
              "      <td>89.000000</td>\n",
              "      <td>14.000000</td>\n",
              "      <td>9.000000</td>\n",
              "    </tr>\n",
              "  </tbody>\n",
              "</table>\n",
              "</div>"
            ],
            "text/plain": [
              "                  ID          Age  Work_Experience  Family_Size\n",
              "count    8068.000000  8068.000000      7239.000000  7733.000000\n",
              "mean   463479.214551    43.466906         2.641663     2.850123\n",
              "std      2595.381232    16.711696         3.406763     1.531413\n",
              "min    458982.000000    18.000000         0.000000     1.000000\n",
              "25%    461240.750000    30.000000         0.000000     2.000000\n",
              "50%    463472.500000    40.000000         1.000000     3.000000\n",
              "75%    465744.250000    53.000000         4.000000     4.000000\n",
              "max    467974.000000    89.000000        14.000000     9.000000"
            ]
          },
          "metadata": {
            "tags": []
          }
        },
        {
          "output_type": "stream",
          "text": [
            " \n"
          ],
          "name": "stdout"
        },
        {
          "output_type": "display_data",
          "data": {
            "text/html": [
              "<div>\n",
              "<style scoped>\n",
              "    .dataframe tbody tr th:only-of-type {\n",
              "        vertical-align: middle;\n",
              "    }\n",
              "\n",
              "    .dataframe tbody tr th {\n",
              "        vertical-align: top;\n",
              "    }\n",
              "\n",
              "    .dataframe thead th {\n",
              "        text-align: right;\n",
              "    }\n",
              "</style>\n",
              "<table border=\"1\" class=\"dataframe\">\n",
              "  <thead>\n",
              "    <tr style=\"text-align: right;\">\n",
              "      <th></th>\n",
              "      <th>Gender</th>\n",
              "      <th>Ever_Married</th>\n",
              "      <th>Graduated</th>\n",
              "      <th>Profession</th>\n",
              "      <th>Spending_Score</th>\n",
              "      <th>Var_1</th>\n",
              "      <th>Segmentation</th>\n",
              "    </tr>\n",
              "  </thead>\n",
              "  <tbody>\n",
              "    <tr>\n",
              "      <th>count</th>\n",
              "      <td>8068</td>\n",
              "      <td>7928</td>\n",
              "      <td>7990</td>\n",
              "      <td>7944</td>\n",
              "      <td>8068</td>\n",
              "      <td>7992</td>\n",
              "      <td>8068</td>\n",
              "    </tr>\n",
              "    <tr>\n",
              "      <th>unique</th>\n",
              "      <td>2</td>\n",
              "      <td>2</td>\n",
              "      <td>2</td>\n",
              "      <td>9</td>\n",
              "      <td>3</td>\n",
              "      <td>7</td>\n",
              "      <td>4</td>\n",
              "    </tr>\n",
              "    <tr>\n",
              "      <th>top</th>\n",
              "      <td>Male</td>\n",
              "      <td>Yes</td>\n",
              "      <td>Yes</td>\n",
              "      <td>Artist</td>\n",
              "      <td>Low</td>\n",
              "      <td>Cat_6</td>\n",
              "      <td>D</td>\n",
              "    </tr>\n",
              "    <tr>\n",
              "      <th>freq</th>\n",
              "      <td>4417</td>\n",
              "      <td>4643</td>\n",
              "      <td>4968</td>\n",
              "      <td>2516</td>\n",
              "      <td>4878</td>\n",
              "      <td>5238</td>\n",
              "      <td>2268</td>\n",
              "    </tr>\n",
              "  </tbody>\n",
              "</table>\n",
              "</div>"
            ],
            "text/plain": [
              "       Gender Ever_Married Graduated  ... Spending_Score  Var_1 Segmentation\n",
              "count    8068         7928      7990  ...           8068   7992         8068\n",
              "unique      2            2         2  ...              3      7            4\n",
              "top      Male          Yes       Yes  ...            Low  Cat_6            D\n",
              "freq     4417         4643      4968  ...           4878   5238         2268\n",
              "\n",
              "[4 rows x 7 columns]"
            ]
          },
          "metadata": {
            "tags": []
          }
        }
      ]
    },
    {
      "cell_type": "code",
      "metadata": {
        "id": "DPF198eJNKGf",
        "colab_type": "code",
        "colab": {
          "base_uri": "https://localhost:8080/",
          "height": 487
        },
        "outputId": "32006ad5-34f5-419e-e8aa-4c0c95fd8ad4"
      },
      "source": [
        "display_data_description(test, data_types[0:4], data_types[4:7])"
      ],
      "execution_count": 11,
      "outputs": [
        {
          "output_type": "stream",
          "text": [
            " Data Description \n"
          ],
          "name": "stdout"
        },
        {
          "output_type": "display_data",
          "data": {
            "text/html": [
              "<div>\n",
              "<style scoped>\n",
              "    .dataframe tbody tr th:only-of-type {\n",
              "        vertical-align: middle;\n",
              "    }\n",
              "\n",
              "    .dataframe tbody tr th {\n",
              "        vertical-align: top;\n",
              "    }\n",
              "\n",
              "    .dataframe thead th {\n",
              "        text-align: right;\n",
              "    }\n",
              "</style>\n",
              "<table border=\"1\" class=\"dataframe\">\n",
              "  <thead>\n",
              "    <tr style=\"text-align: right;\">\n",
              "      <th></th>\n",
              "      <th>ID</th>\n",
              "      <th>Age</th>\n",
              "      <th>Work_Experience</th>\n",
              "      <th>Family_Size</th>\n",
              "    </tr>\n",
              "  </thead>\n",
              "  <tbody>\n",
              "    <tr>\n",
              "      <th>count</th>\n",
              "      <td>2627.000000</td>\n",
              "      <td>2627.000000</td>\n",
              "      <td>2358.000000</td>\n",
              "      <td>2514.000000</td>\n",
              "    </tr>\n",
              "    <tr>\n",
              "      <th>mean</th>\n",
              "      <td>463433.918919</td>\n",
              "      <td>43.649791</td>\n",
              "      <td>2.552587</td>\n",
              "      <td>2.825378</td>\n",
              "    </tr>\n",
              "    <tr>\n",
              "      <th>std</th>\n",
              "      <td>2618.245698</td>\n",
              "      <td>16.967015</td>\n",
              "      <td>3.341094</td>\n",
              "      <td>1.551906</td>\n",
              "    </tr>\n",
              "    <tr>\n",
              "      <th>min</th>\n",
              "      <td>458989.000000</td>\n",
              "      <td>18.000000</td>\n",
              "      <td>0.000000</td>\n",
              "      <td>1.000000</td>\n",
              "    </tr>\n",
              "    <tr>\n",
              "      <th>25%</th>\n",
              "      <td>461162.500000</td>\n",
              "      <td>30.000000</td>\n",
              "      <td>0.000000</td>\n",
              "      <td>2.000000</td>\n",
              "    </tr>\n",
              "    <tr>\n",
              "      <th>50%</th>\n",
              "      <td>463379.000000</td>\n",
              "      <td>41.000000</td>\n",
              "      <td>1.000000</td>\n",
              "      <td>2.000000</td>\n",
              "    </tr>\n",
              "    <tr>\n",
              "      <th>75%</th>\n",
              "      <td>465696.000000</td>\n",
              "      <td>53.000000</td>\n",
              "      <td>4.000000</td>\n",
              "      <td>4.000000</td>\n",
              "    </tr>\n",
              "    <tr>\n",
              "      <th>max</th>\n",
              "      <td>467968.000000</td>\n",
              "      <td>89.000000</td>\n",
              "      <td>14.000000</td>\n",
              "      <td>9.000000</td>\n",
              "    </tr>\n",
              "  </tbody>\n",
              "</table>\n",
              "</div>"
            ],
            "text/plain": [
              "                  ID          Age  Work_Experience  Family_Size\n",
              "count    2627.000000  2627.000000      2358.000000  2514.000000\n",
              "mean   463433.918919    43.649791         2.552587     2.825378\n",
              "std      2618.245698    16.967015         3.341094     1.551906\n",
              "min    458989.000000    18.000000         0.000000     1.000000\n",
              "25%    461162.500000    30.000000         0.000000     2.000000\n",
              "50%    463379.000000    41.000000         1.000000     2.000000\n",
              "75%    465696.000000    53.000000         4.000000     4.000000\n",
              "max    467968.000000    89.000000        14.000000     9.000000"
            ]
          },
          "metadata": {
            "tags": []
          }
        },
        {
          "output_type": "stream",
          "text": [
            " \n"
          ],
          "name": "stdout"
        },
        {
          "output_type": "display_data",
          "data": {
            "text/html": [
              "<div>\n",
              "<style scoped>\n",
              "    .dataframe tbody tr th:only-of-type {\n",
              "        vertical-align: middle;\n",
              "    }\n",
              "\n",
              "    .dataframe tbody tr th {\n",
              "        vertical-align: top;\n",
              "    }\n",
              "\n",
              "    .dataframe thead th {\n",
              "        text-align: right;\n",
              "    }\n",
              "</style>\n",
              "<table border=\"1\" class=\"dataframe\">\n",
              "  <thead>\n",
              "    <tr style=\"text-align: right;\">\n",
              "      <th></th>\n",
              "      <th>Gender</th>\n",
              "      <th>Ever_Married</th>\n",
              "      <th>Graduated</th>\n",
              "      <th>Profession</th>\n",
              "      <th>Spending_Score</th>\n",
              "      <th>Var_1</th>\n",
              "    </tr>\n",
              "  </thead>\n",
              "  <tbody>\n",
              "    <tr>\n",
              "      <th>count</th>\n",
              "      <td>2627</td>\n",
              "      <td>2577</td>\n",
              "      <td>2603</td>\n",
              "      <td>2589</td>\n",
              "      <td>2627</td>\n",
              "      <td>2595</td>\n",
              "    </tr>\n",
              "    <tr>\n",
              "      <th>unique</th>\n",
              "      <td>2</td>\n",
              "      <td>2</td>\n",
              "      <td>2</td>\n",
              "      <td>9</td>\n",
              "      <td>3</td>\n",
              "      <td>7</td>\n",
              "    </tr>\n",
              "    <tr>\n",
              "      <th>top</th>\n",
              "      <td>Male</td>\n",
              "      <td>Yes</td>\n",
              "      <td>Yes</td>\n",
              "      <td>Artist</td>\n",
              "      <td>Low</td>\n",
              "      <td>Cat_6</td>\n",
              "    </tr>\n",
              "    <tr>\n",
              "      <th>freq</th>\n",
              "      <td>1424</td>\n",
              "      <td>1520</td>\n",
              "      <td>1602</td>\n",
              "      <td>802</td>\n",
              "      <td>1616</td>\n",
              "      <td>1672</td>\n",
              "    </tr>\n",
              "  </tbody>\n",
              "</table>\n",
              "</div>"
            ],
            "text/plain": [
              "       Gender Ever_Married Graduated Profession Spending_Score  Var_1\n",
              "count    2627         2577      2603       2589           2627   2595\n",
              "unique      2            2         2          9              3      7\n",
              "top      Male          Yes       Yes     Artist            Low  Cat_6\n",
              "freq     1424         1520      1602        802           1616   1672"
            ]
          },
          "metadata": {
            "tags": []
          }
        }
      ]
    },
    {
      "cell_type": "code",
      "metadata": {
        "id": "lnRvr6ufNLBE",
        "colab_type": "code",
        "colab": {
          "base_uri": "https://localhost:8080/",
          "height": 68
        },
        "outputId": "437c4e12-3d07-4941-afb1-21192ba7e6c6"
      },
      "source": [
        "# Checking Percentage of common ID's between train and test data using Unique train values\n",
        "\n",
        "print(np.intersect1d(train['ID'], test['ID']).shape[0]/train['ID'].nunique())\n",
        "\n",
        "common_ids = len(\n",
        "    set(test['ID'].unique()).intersection(set(train['ID'].unique()))\n",
        "    )\n",
        "\n",
        "print(\"Common IDs : \", common_ids)\n",
        "\n",
        "# Data Leak as out of 2627 Rows , there are 2332 ID's in common\n",
        "\n",
        "print(\"Unique IDs : \", test.shape[0] - common_ids)"
      ],
      "execution_count": 12,
      "outputs": [
        {
          "output_type": "stream",
          "text": [
            "0.2890431333663857\n",
            "Common IDs :  2332\n",
            "Unique IDs :  295\n"
          ],
          "name": "stdout"
        }
      ]
    },
    {
      "cell_type": "code",
      "metadata": {
        "id": "BZHuU8blRwLx",
        "colab_type": "code",
        "colab": {
          "base_uri": "https://localhost:8080/",
          "height": 34
        },
        "outputId": "188ba84d-e390-4bea-97ad-a01174043371"
      },
      "source": [
        "set(test['ID'].unique()).intersection?"
      ],
      "execution_count": 13,
      "outputs": [
        {
          "output_type": "stream",
          "text": [
            "Object `intersection` not found.\n"
          ],
          "name": "stdout"
        }
      ]
    },
    {
      "cell_type": "code",
      "metadata": {
        "id": "KfnnLZj2UDRb",
        "colab_type": "code",
        "colab": {}
      },
      "source": [
        "testx = pd.merge(test, train, how=\"left\", on=\"ID\")"
      ],
      "execution_count": 14,
      "outputs": []
    },
    {
      "cell_type": "markdown",
      "metadata": {
        "id": "FLk71gpfUvqe",
        "colab_type": "text"
      },
      "source": [
        "Remove Duplicate Rows from Train data if present"
      ]
    },
    {
      "cell_type": "code",
      "metadata": {
        "id": "7CIdf8sxUsFA",
        "colab_type": "code",
        "colab": {}
      },
      "source": [
        "def remove_duplicates(data):\n",
        "  print(\"BEFORE REMOVING DUPLICATES - No of Rows : \", data.shape[0])\n",
        "  data.drop_duplicates(keep=\"first\", inplace=True)\n",
        "  print(\"AFTER REMOVING DUPLICATES  - No of Rows : \", data.shape[0])\n",
        "\n",
        "  return data"
      ],
      "execution_count": 15,
      "outputs": []
    },
    {
      "cell_type": "code",
      "metadata": {
        "id": "0pHSTGw2YSgV",
        "colab_type": "code",
        "colab": {
          "base_uri": "https://localhost:8080/",
          "height": 51
        },
        "outputId": "36be1e9f-6a2c-413c-91e0-312e0101c2d6"
      },
      "source": [
        "train = remove_duplicates(train)"
      ],
      "execution_count": 16,
      "outputs": [
        {
          "output_type": "stream",
          "text": [
            "BEFORE REMOVING DUPLICATES - No of Rows :  8068\n",
            "AFTER REMOVING DUPLICATES  - No of Rows :  8068\n"
          ],
          "name": "stdout"
        }
      ]
    },
    {
      "cell_type": "markdown",
      "metadata": {
        "id": "ixqtKoqTYo3M",
        "colab_type": "text"
      },
      "source": [
        "Fill/Impute Missing values continuous - Mean/Median/Any specific value\n",
        "\n",
        "& categorical - Others/ForwardFill/BackFill\n"
      ]
    },
    {
      "cell_type": "code",
      "metadata": {
        "id": "vg3GThdIYYfx",
        "colab_type": "code",
        "colab": {}
      },
      "source": [
        "# Let LightGBM classifier Handles the issues"
      ],
      "execution_count": 17,
      "outputs": []
    },
    {
      "cell_type": "code",
      "metadata": {
        "id": "ztI-8zvdaN-e",
        "colab_type": "code",
        "colab": {}
      },
      "source": [
        "def display_unique(data):\n",
        "\n",
        "  for column in data.columns:\n",
        "    print(\"No of Unique values in \"+column+\" Column are : \"+str(data[column].nunique()) )# nunique gives count of unique values\n",
        "    print(\"Actual Unique Values in \"+column+\" Column are : \"+str(data[column].sort_values(ascending=True, na_position=\"last\").unique()))\n",
        "\n",
        "    print(\"NULL Values : \")\n",
        "    print(data[ column ].isnull().sum())\n",
        "    print(\"Value counts : \")\n",
        "    print(data[column].value_counts())\n",
        "    print(\" \")"
      ],
      "execution_count": 18,
      "outputs": []
    },
    {
      "cell_type": "code",
      "metadata": {
        "id": "Oa5Nul0Wcbhq",
        "colab_type": "code",
        "colab": {
          "base_uri": "https://localhost:8080/",
          "height": 1000
        },
        "outputId": "6f2a8e1e-f51b-4475-e54a-dd3953d5f89e"
      },
      "source": [
        "display_unique(train)"
      ],
      "execution_count": 19,
      "outputs": [
        {
          "output_type": "stream",
          "text": [
            "No of Unique values in ID Column are : 8068\n",
            "Actual Unique Values in ID Column are : [458982 458983 458984 ... 467972 467973 467974]\n",
            "NULL Values : \n",
            "0\n",
            "Value counts : \n",
            "460799    1\n",
            "466217    1\n",
            "460042    1\n",
            "462091    1\n",
            "464144    1\n",
            "         ..\n",
            "463511    1\n",
            "467609    1\n",
            "461468    1\n",
            "459421    1\n",
            "460801    1\n",
            "Name: ID, Length: 8068, dtype: int64\n",
            " \n",
            "No of Unique values in Gender Column are : 2\n",
            "Actual Unique Values in Gender Column are : ['Female' 'Male']\n",
            "NULL Values : \n",
            "0\n",
            "Value counts : \n",
            "Male      4417\n",
            "Female    3651\n",
            "Name: Gender, dtype: int64\n",
            " \n",
            "No of Unique values in Ever_Married Column are : 2\n",
            "Actual Unique Values in Ever_Married Column are : ['No' 'Yes' nan]\n",
            "NULL Values : \n",
            "140\n",
            "Value counts : \n",
            "Yes    4643\n",
            "No     3285\n",
            "Name: Ever_Married, dtype: int64\n",
            " \n",
            "No of Unique values in Age Column are : 67\n",
            "Actual Unique Values in Age Column are : [18 19 20 21 22 23 25 26 27 28 29 30 31 32 33 35 36 37 38 39 40 41 42 43\n",
            " 45 46 47 48 49 50 51 52 53 55 56 57 58 59 60 61 62 63 65 66 67 68 69 70\n",
            " 71 72 73 74 75 76 77 78 79 80 81 82 83 84 85 86 87 88 89]\n",
            "NULL Values : \n",
            "0\n",
            "Value counts : \n",
            "35    250\n",
            "37    234\n",
            "33    232\n",
            "42    232\n",
            "27    229\n",
            "     ... \n",
            "78     29\n",
            "87     28\n",
            "76     27\n",
            "80     24\n",
            "85     22\n",
            "Name: Age, Length: 67, dtype: int64\n",
            " \n",
            "No of Unique values in Graduated Column are : 2\n",
            "Actual Unique Values in Graduated Column are : ['No' 'Yes' nan]\n",
            "NULL Values : \n",
            "78\n",
            "Value counts : \n",
            "Yes    4968\n",
            "No     3022\n",
            "Name: Graduated, dtype: int64\n",
            " \n",
            "No of Unique values in Profession Column are : 9\n",
            "Actual Unique Values in Profession Column are : ['Artist' 'Doctor' 'Engineer' 'Entertainment' 'Executive' 'Healthcare'\n",
            " 'Homemaker' 'Lawyer' 'Marketing' nan]\n",
            "NULL Values : \n",
            "124\n",
            "Value counts : \n",
            "Artist           2516\n",
            "Healthcare       1332\n",
            "Entertainment     949\n",
            "Engineer          699\n",
            "Doctor            688\n",
            "Lawyer            623\n",
            "Executive         599\n",
            "Marketing         292\n",
            "Homemaker         246\n",
            "Name: Profession, dtype: int64\n",
            " \n",
            "No of Unique values in Work_Experience Column are : 15\n",
            "Actual Unique Values in Work_Experience Column are : [ 0.  1.  2.  3.  4.  5.  6.  7.  8.  9. 10. 11. 12. 13. 14. nan]\n",
            "NULL Values : \n",
            "829\n",
            "Value counts : \n",
            "1.0     2354\n",
            "0.0     2318\n",
            "9.0      474\n",
            "8.0      463\n",
            "2.0      286\n",
            "3.0      255\n",
            "4.0      253\n",
            "6.0      204\n",
            "7.0      196\n",
            "5.0      194\n",
            "10.0      53\n",
            "11.0      50\n",
            "12.0      48\n",
            "13.0      46\n",
            "14.0      45\n",
            "Name: Work_Experience, dtype: int64\n",
            " \n",
            "No of Unique values in Spending_Score Column are : 3\n",
            "Actual Unique Values in Spending_Score Column are : ['Average' 'High' 'Low']\n",
            "NULL Values : \n",
            "0\n",
            "Value counts : \n",
            "Low        4878\n",
            "Average    1974\n",
            "High       1216\n",
            "Name: Spending_Score, dtype: int64\n",
            " \n",
            "No of Unique values in Family_Size Column are : 9\n",
            "Actual Unique Values in Family_Size Column are : [ 1.  2.  3.  4.  5.  6.  7.  8.  9. nan]\n",
            "NULL Values : \n",
            "335\n",
            "Value counts : \n",
            "2.0    2390\n",
            "3.0    1497\n",
            "1.0    1453\n",
            "4.0    1379\n",
            "5.0     612\n",
            "6.0     212\n",
            "7.0      96\n",
            "8.0      50\n",
            "9.0      44\n",
            "Name: Family_Size, dtype: int64\n",
            " \n",
            "No of Unique values in Var_1 Column are : 7\n",
            "Actual Unique Values in Var_1 Column are : ['Cat_1' 'Cat_2' 'Cat_3' 'Cat_4' 'Cat_5' 'Cat_6' 'Cat_7' nan]\n",
            "NULL Values : \n",
            "76\n",
            "Value counts : \n",
            "Cat_6    5238\n",
            "Cat_4    1089\n",
            "Cat_3     822\n",
            "Cat_2     422\n",
            "Cat_7     203\n",
            "Cat_1     133\n",
            "Cat_5      85\n",
            "Name: Var_1, dtype: int64\n",
            " \n",
            "No of Unique values in Segmentation Column are : 4\n",
            "Actual Unique Values in Segmentation Column are : ['A' 'B' 'C' 'D']\n",
            "NULL Values : \n",
            "0\n",
            "Value counts : \n",
            "D    2268\n",
            "A    1972\n",
            "C    1970\n",
            "B    1858\n",
            "Name: Segmentation, dtype: int64\n",
            " \n"
          ],
          "name": "stdout"
        }
      ]
    },
    {
      "cell_type": "code",
      "metadata": {
        "id": "f140WbUTcgkC",
        "colab_type": "code",
        "colab": {
          "base_uri": "https://localhost:8080/",
          "height": 255
        },
        "outputId": "57e0fce3-6341-4664-cebe-ed017b6c56cd"
      },
      "source": [
        "for i in train:\n",
        "  print(f\"column {i} unique values {train[i].unique()}\")"
      ],
      "execution_count": 20,
      "outputs": [
        {
          "output_type": "stream",
          "text": [
            "column ID unique values [462809 462643 466315 ... 465406 467299 461879]\n",
            "column Gender unique values ['Male' 'Female']\n",
            "column Ever_Married unique values ['No' 'Yes' nan]\n",
            "column Age unique values [22 38 67 40 56 32 33 61 55 26 19 70 58 41 31 79 49 18 36 35 45 42 83 27\n",
            " 28 47 29 57 76 25 72 48 74 59 39 51 30 63 52 60 68 86 50 43 80 37 46 69\n",
            " 78 71 82 23 20 85 21 53 62 75 65 89 66 73 77 87 84 81 88]\n",
            "column Graduated unique values ['No' 'Yes' nan]\n",
            "column Profession unique values ['Healthcare' 'Engineer' 'Lawyer' 'Entertainment' 'Artist' 'Executive'\n",
            " 'Doctor' 'Homemaker' 'Marketing' nan]\n",
            "column Work_Experience unique values [ 1. nan  0.  4.  9. 12.  3. 13.  5.  8. 14.  7.  2.  6. 10. 11.]\n",
            "column Spending_Score unique values ['Low' 'Average' 'High']\n",
            "column Family_Size unique values [ 4.  3.  1.  2.  6. nan  5.  8.  7.  9.]\n",
            "column Var_1 unique values ['Cat_4' 'Cat_6' 'Cat_7' 'Cat_3' 'Cat_1' 'Cat_2' nan 'Cat_5']\n",
            "column Segmentation unique values ['D' 'A' 'B' 'C']\n"
          ],
          "name": "stdout"
        }
      ]
    },
    {
      "cell_type": "markdown",
      "metadata": {
        "id": "QbELhcCpecZ9",
        "colab_type": "text"
      },
      "source": [
        "Multi class classification problem - Target has more than 2 categories\n",
        "\n",
        "Target - Segmentation has 4 values of customers ['D', 'A', 'B', 'C']"
      ]
    },
    {
      "cell_type": "markdown",
      "metadata": {
        "id": "C3P6FDmUfRW8",
        "colab_type": "text"
      },
      "source": [
        "# Feature Engineering\n",
        "\n",
        "Feature Selection - Selection of most important existing features\n",
        "\n",
        "Feature Creation - Creation of New Features from the Existing Features/ Predictors :"
      ]
    },
    {
      "cell_type": "code",
      "metadata": {
        "id": "9t8mZXZUeHi5",
        "colab_type": "code",
        "colab": {}
      },
      "source": [
        "# concatenate train and test data into single dataframe\n",
        "\n",
        "train[\"is_train\"] = 1\n",
        "test[\"is_train\"] = 0\n",
        "df = pd.concat([train, test])"
      ],
      "execution_count": 21,
      "outputs": []
    },
    {
      "cell_type": "code",
      "metadata": {
        "id": "KtH2MZaIh1sK",
        "colab_type": "code",
        "colab": {
          "base_uri": "https://localhost:8080/",
          "height": 85
        },
        "outputId": "a68b15bb-8d6e-4d11-c321-78f4a4eb8cee"
      },
      "source": [
        "df.columns"
      ],
      "execution_count": 22,
      "outputs": [
        {
          "output_type": "execute_result",
          "data": {
            "text/plain": [
              "Index(['ID', 'Gender', 'Ever_Married', 'Age', 'Graduated', 'Profession',\n",
              "       'Work_Experience', 'Spending_Score', 'Family_Size', 'Var_1',\n",
              "       'Segmentation', 'is_train'],\n",
              "      dtype='object')"
            ]
          },
          "metadata": {
            "tags": []
          },
          "execution_count": 22
        }
      ]
    },
    {
      "cell_type": "code",
      "metadata": {
        "id": "5ZKkw4plhbxz",
        "colab_type": "code",
        "colab": {}
      },
      "source": [
        "# Label Encode Technique\n",
        "\n",
        "from sklearn.preprocessing import LabelEncoder\n",
        "le = LabelEncoder()\n",
        "\n",
        "for i in [\"Gender\", \"Ever_Married\", \"Graduated\", \"Profession\", \"Spending_Score\", \"Var_1\"]:\n",
        "  df[i] = le.fit_transform(df[i].astype('str'))\n"
      ],
      "execution_count": 23,
      "outputs": []
    },
    {
      "cell_type": "code",
      "metadata": {
        "id": "Yh_qZaB0iY5O",
        "colab_type": "code",
        "colab": {
          "base_uri": "https://localhost:8080/",
          "height": 204
        },
        "outputId": "f0d5bc32-31b3-4e35-dd74-7a01bdb9f14b"
      },
      "source": [
        "df.head()"
      ],
      "execution_count": 24,
      "outputs": [
        {
          "output_type": "execute_result",
          "data": {
            "text/html": [
              "<div>\n",
              "<style scoped>\n",
              "    .dataframe tbody tr th:only-of-type {\n",
              "        vertical-align: middle;\n",
              "    }\n",
              "\n",
              "    .dataframe tbody tr th {\n",
              "        vertical-align: top;\n",
              "    }\n",
              "\n",
              "    .dataframe thead th {\n",
              "        text-align: right;\n",
              "    }\n",
              "</style>\n",
              "<table border=\"1\" class=\"dataframe\">\n",
              "  <thead>\n",
              "    <tr style=\"text-align: right;\">\n",
              "      <th></th>\n",
              "      <th>ID</th>\n",
              "      <th>Gender</th>\n",
              "      <th>Ever_Married</th>\n",
              "      <th>Age</th>\n",
              "      <th>Graduated</th>\n",
              "      <th>Profession</th>\n",
              "      <th>Work_Experience</th>\n",
              "      <th>Spending_Score</th>\n",
              "      <th>Family_Size</th>\n",
              "      <th>Var_1</th>\n",
              "      <th>Segmentation</th>\n",
              "      <th>is_train</th>\n",
              "    </tr>\n",
              "  </thead>\n",
              "  <tbody>\n",
              "    <tr>\n",
              "      <th>0</th>\n",
              "      <td>462809</td>\n",
              "      <td>1</td>\n",
              "      <td>0</td>\n",
              "      <td>22</td>\n",
              "      <td>0</td>\n",
              "      <td>5</td>\n",
              "      <td>1.0</td>\n",
              "      <td>2</td>\n",
              "      <td>4.0</td>\n",
              "      <td>3</td>\n",
              "      <td>D</td>\n",
              "      <td>1</td>\n",
              "    </tr>\n",
              "    <tr>\n",
              "      <th>1</th>\n",
              "      <td>462643</td>\n",
              "      <td>0</td>\n",
              "      <td>1</td>\n",
              "      <td>38</td>\n",
              "      <td>1</td>\n",
              "      <td>2</td>\n",
              "      <td>NaN</td>\n",
              "      <td>0</td>\n",
              "      <td>3.0</td>\n",
              "      <td>3</td>\n",
              "      <td>A</td>\n",
              "      <td>1</td>\n",
              "    </tr>\n",
              "    <tr>\n",
              "      <th>2</th>\n",
              "      <td>466315</td>\n",
              "      <td>0</td>\n",
              "      <td>1</td>\n",
              "      <td>67</td>\n",
              "      <td>1</td>\n",
              "      <td>2</td>\n",
              "      <td>1.0</td>\n",
              "      <td>2</td>\n",
              "      <td>1.0</td>\n",
              "      <td>5</td>\n",
              "      <td>B</td>\n",
              "      <td>1</td>\n",
              "    </tr>\n",
              "    <tr>\n",
              "      <th>3</th>\n",
              "      <td>461735</td>\n",
              "      <td>1</td>\n",
              "      <td>1</td>\n",
              "      <td>67</td>\n",
              "      <td>1</td>\n",
              "      <td>7</td>\n",
              "      <td>0.0</td>\n",
              "      <td>1</td>\n",
              "      <td>2.0</td>\n",
              "      <td>5</td>\n",
              "      <td>B</td>\n",
              "      <td>1</td>\n",
              "    </tr>\n",
              "    <tr>\n",
              "      <th>4</th>\n",
              "      <td>462669</td>\n",
              "      <td>0</td>\n",
              "      <td>1</td>\n",
              "      <td>40</td>\n",
              "      <td>1</td>\n",
              "      <td>3</td>\n",
              "      <td>NaN</td>\n",
              "      <td>1</td>\n",
              "      <td>6.0</td>\n",
              "      <td>5</td>\n",
              "      <td>A</td>\n",
              "      <td>1</td>\n",
              "    </tr>\n",
              "  </tbody>\n",
              "</table>\n",
              "</div>"
            ],
            "text/plain": [
              "       ID  Gender  Ever_Married  Age  ...  Family_Size  Var_1  Segmentation  is_train\n",
              "0  462809       1             0   22  ...          4.0      3             D         1\n",
              "1  462643       0             1   38  ...          3.0      3             A         1\n",
              "2  466315       0             1   67  ...          1.0      5             B         1\n",
              "3  461735       1             1   67  ...          2.0      5             B         1\n",
              "4  462669       0             1   40  ...          6.0      5             A         1\n",
              "\n",
              "[5 rows x 12 columns]"
            ]
          },
          "metadata": {
            "tags": []
          },
          "execution_count": 24
        }
      ]
    },
    {
      "cell_type": "code",
      "metadata": {
        "id": "EZv2-ZNMia42",
        "colab_type": "code",
        "colab": {}
      },
      "source": [
        "df['Segmentation'] = df['Segmentation'].map({'A':0, 'B':1, 'C':2, 'D':3})"
      ],
      "execution_count": 25,
      "outputs": []
    },
    {
      "cell_type": "markdown",
      "metadata": {
        "id": "U8x8lbsxw3BQ",
        "colab_type": "text"
      },
      "source": [
        "Handle missing values\n",
        "\n",
        "* Family_Size , Work_Experience \n"
      ]
    },
    {
      "cell_type": "code",
      "metadata": {
        "id": "BTydhY_Hw1qX",
        "colab_type": "code",
        "colab": {}
      },
      "source": [
        "df['Family_Size'].isna().sum()#.value_counts()\n",
        "df['Family_Size'].value_counts()\n",
        "# fill the na values with 2.0 a minimum family is 2\n",
        "df['Family_Size'] = df['Family_Size'].fillna(2.0)"
      ],
      "execution_count": 26,
      "outputs": []
    },
    {
      "cell_type": "code",
      "metadata": {
        "id": "uA3ggP1dyQmN",
        "colab_type": "code",
        "colab": {}
      },
      "source": [
        "df['Work_Experience'].isna().sum()\n",
        "df['Work_Experience'].value_counts()\n",
        "# filling na values with 0.0 default Work_Experience\n",
        "df['Work_Experience'] = df['Work_Experience'].fillna(0.0)"
      ],
      "execution_count": 27,
      "outputs": []
    },
    {
      "cell_type": "code",
      "metadata": {
        "id": "rFKv67hYz6ul",
        "colab_type": "code",
        "colab": {
          "base_uri": "https://localhost:8080/",
          "height": 34
        },
        "outputId": "a2353a54-4ccc-4f66-e3b3-aa912cf4878c"
      },
      "source": [
        "df['Work_Experience'].isna().sum()"
      ],
      "execution_count": 28,
      "outputs": [
        {
          "output_type": "execute_result",
          "data": {
            "text/plain": [
              "0"
            ]
          },
          "metadata": {
            "tags": []
          },
          "execution_count": 28
        }
      ]
    },
    {
      "cell_type": "code",
      "metadata": {
        "id": "fz-0qKHEiwCv",
        "colab_type": "code",
        "colab": {}
      },
      "source": [
        "# Get back train data from df\n",
        "\n",
        "train = df[df['is_train'] == 1]\n",
        "test = train = df[df['is_train'] == 0]"
      ],
      "execution_count": 29,
      "outputs": []
    },
    {
      "cell_type": "markdown",
      "metadata": {
        "id": "3XzxpSIPjtPM",
        "colab_type": "text"
      },
      "source": [
        "Split Train Data into Train and Validation Data with\n",
        "\n",
        "Predictors(Independent) & Target(Dependent)"
      ]
    },
    {
      "cell_type": "code",
      "metadata": {
        "id": "xv2_OFfFjag2",
        "colab_type": "code",
        "colab": {}
      },
      "source": [
        "predictor_train = train.drop(['Segmentation', 'is_train', 'ID'], axis=1)\n",
        "target_train = train['Segmentation']"
      ],
      "execution_count": 30,
      "outputs": []
    },
    {
      "cell_type": "code",
      "metadata": {
        "id": "ikrSiUFlkP0M",
        "colab_type": "code",
        "colab": {}
      },
      "source": [
        "predictor_test = test.drop(['is_train', 'ID'], axis=1)"
      ],
      "execution_count": 31,
      "outputs": []
    },
    {
      "cell_type": "code",
      "metadata": {
        "id": "LLfBPHAckgqD",
        "colab_type": "code",
        "colab": {
          "base_uri": "https://localhost:8080/",
          "height": 204
        },
        "outputId": "48769b5d-8141-49b2-9ef9-6619b4853ce4"
      },
      "source": [
        "predictor_test.head()"
      ],
      "execution_count": 32,
      "outputs": [
        {
          "output_type": "execute_result",
          "data": {
            "text/html": [
              "<div>\n",
              "<style scoped>\n",
              "    .dataframe tbody tr th:only-of-type {\n",
              "        vertical-align: middle;\n",
              "    }\n",
              "\n",
              "    .dataframe tbody tr th {\n",
              "        vertical-align: top;\n",
              "    }\n",
              "\n",
              "    .dataframe thead th {\n",
              "        text-align: right;\n",
              "    }\n",
              "</style>\n",
              "<table border=\"1\" class=\"dataframe\">\n",
              "  <thead>\n",
              "    <tr style=\"text-align: right;\">\n",
              "      <th></th>\n",
              "      <th>Gender</th>\n",
              "      <th>Ever_Married</th>\n",
              "      <th>Age</th>\n",
              "      <th>Graduated</th>\n",
              "      <th>Profession</th>\n",
              "      <th>Work_Experience</th>\n",
              "      <th>Spending_Score</th>\n",
              "      <th>Family_Size</th>\n",
              "      <th>Var_1</th>\n",
              "      <th>Segmentation</th>\n",
              "    </tr>\n",
              "  </thead>\n",
              "  <tbody>\n",
              "    <tr>\n",
              "      <th>0</th>\n",
              "      <td>0</td>\n",
              "      <td>1</td>\n",
              "      <td>36</td>\n",
              "      <td>1</td>\n",
              "      <td>2</td>\n",
              "      <td>0.0</td>\n",
              "      <td>2</td>\n",
              "      <td>1.0</td>\n",
              "      <td>5</td>\n",
              "      <td>NaN</td>\n",
              "    </tr>\n",
              "    <tr>\n",
              "      <th>1</th>\n",
              "      <td>1</td>\n",
              "      <td>1</td>\n",
              "      <td>37</td>\n",
              "      <td>1</td>\n",
              "      <td>5</td>\n",
              "      <td>8.0</td>\n",
              "      <td>0</td>\n",
              "      <td>4.0</td>\n",
              "      <td>5</td>\n",
              "      <td>NaN</td>\n",
              "    </tr>\n",
              "    <tr>\n",
              "      <th>2</th>\n",
              "      <td>0</td>\n",
              "      <td>1</td>\n",
              "      <td>69</td>\n",
              "      <td>0</td>\n",
              "      <td>9</td>\n",
              "      <td>0.0</td>\n",
              "      <td>2</td>\n",
              "      <td>1.0</td>\n",
              "      <td>5</td>\n",
              "      <td>NaN</td>\n",
              "    </tr>\n",
              "    <tr>\n",
              "      <th>3</th>\n",
              "      <td>1</td>\n",
              "      <td>1</td>\n",
              "      <td>59</td>\n",
              "      <td>0</td>\n",
              "      <td>4</td>\n",
              "      <td>11.0</td>\n",
              "      <td>1</td>\n",
              "      <td>2.0</td>\n",
              "      <td>5</td>\n",
              "      <td>NaN</td>\n",
              "    </tr>\n",
              "    <tr>\n",
              "      <th>4</th>\n",
              "      <td>0</td>\n",
              "      <td>0</td>\n",
              "      <td>19</td>\n",
              "      <td>0</td>\n",
              "      <td>8</td>\n",
              "      <td>0.0</td>\n",
              "      <td>2</td>\n",
              "      <td>4.0</td>\n",
              "      <td>5</td>\n",
              "      <td>NaN</td>\n",
              "    </tr>\n",
              "  </tbody>\n",
              "</table>\n",
              "</div>"
            ],
            "text/plain": [
              "   Gender  Ever_Married  Age  ...  Family_Size  Var_1  Segmentation\n",
              "0       0             1   36  ...          1.0      5           NaN\n",
              "1       1             1   37  ...          4.0      5           NaN\n",
              "2       0             1   69  ...          1.0      5           NaN\n",
              "3       1             1   59  ...          2.0      5           NaN\n",
              "4       0             0   19  ...          4.0      5           NaN\n",
              "\n",
              "[5 rows x 10 columns]"
            ]
          },
          "metadata": {
            "tags": []
          },
          "execution_count": 32
        }
      ]
    },
    {
      "cell_type": "markdown",
      "metadata": {
        "id": "tVhu_a-qsO1k",
        "colab_type": "text"
      },
      "source": [
        "## Create baseline ML model"
      ]
    },
    {
      "cell_type": "code",
      "metadata": {
        "id": "K57fYEa70UeZ",
        "colab_type": "code",
        "colab": {
          "base_uri": "https://localhost:8080/",
          "height": 187
        },
        "outputId": "ed68c15a-da90-4a0e-f372-e4c12773fa42"
      },
      "source": [
        "predictor_train"
      ],
      "execution_count": 80,
      "outputs": [
        {
          "output_type": "execute_result",
          "data": {
            "text/plain": [
              "Gender             0\n",
              "Ever_Married       0\n",
              "Age                0\n",
              "Graduated          0\n",
              "Profession         0\n",
              "Work_Experience    0\n",
              "Spending_Score     0\n",
              "Family_Size        0\n",
              "Var_1              0\n",
              "dtype: int64"
            ]
          },
          "metadata": {
            "tags": []
          },
          "execution_count": 80
        }
      ]
    },
    {
      "cell_type": "code",
      "metadata": {
        "id": "xAP2SCsrr8yu",
        "colab_type": "code",
        "colab": {
          "base_uri": "https://localhost:8080/",
          "height": 374
        },
        "outputId": "cd6380af-ad2c-4677-aac4-ca2045b4519e"
      },
      "source": [
        "categorical_features = [\"Gender\", \"Ever_Married\" ,\"Graduated\" ,\"Profession\" ,\"Spending_Score\" ,\"Var_1\" ]\n",
        "\n",
        "lgb_model = LGBMClassifier()\n",
        "\n",
        "# Apply stratified K-Fold cross validation where K = 5 or n_splits=5\n",
        "\n",
        "kf = StratifiedKFold(n_splits=5, shuffle=True, random_state=10)\n",
        "acc = []\n",
        "\n",
        "# Pass predictor_train, target_train for Cross Validation\n",
        "for fold, (t_id, v_id) in enumerate(kf.split(predictor_train, target_train)):\n",
        "\n",
        "  # Split train and validation data\n",
        "  tx = predictor_train.iloc[t_id]; ty = target_train.iloc[t_id]\n",
        "  vx = predictor_train.iloc[v_id]; vy = target_train.iloc[v_id]\n",
        "\n",
        "\n",
        "  # Train/Fit the data to LightGBM model\n",
        "  lgb_model.fit(tx, ty, categorical_features= categorical_features)\n",
        "\n",
        "  # Predict the Validation  Data to Train LightGBM Model\n",
        "  val_y = lgb_model.predict(vx)\n",
        "\n",
        "  # Get Accuracy Score on validation data for each fold\n",
        "  acc_score = accuracy_score(vy, val_y)\n",
        "  acc.append(acc_score)\n",
        "  print(f\"fold {fold} accuracy {acc_score}\")\n",
        "\n",
        "print(f\"Mean accuracy score {np.mean(acc)}\")"
      ],
      "execution_count": 33,
      "outputs": [
        {
          "output_type": "error",
          "ename": "ValueError",
          "evalue": "ignored",
          "traceback": [
            "\u001b[0;31m---------------------------------------------------------------------------\u001b[0m",
            "\u001b[0;31mValueError\u001b[0m                                Traceback (most recent call last)",
            "\u001b[0;32m<ipython-input-33-d478d6599f68>\u001b[0m in \u001b[0;36m<module>\u001b[0;34m()\u001b[0m\n\u001b[1;32m      9\u001b[0m \u001b[0;34m\u001b[0m\u001b[0m\n\u001b[1;32m     10\u001b[0m \u001b[0;31m# Pass predictor_train, target_train for Cross Validation\u001b[0m\u001b[0;34m\u001b[0m\u001b[0;34m\u001b[0m\u001b[0;34m\u001b[0m\u001b[0m\n\u001b[0;32m---> 11\u001b[0;31m \u001b[0;32mfor\u001b[0m \u001b[0mfold\u001b[0m\u001b[0;34m,\u001b[0m \u001b[0;34m(\u001b[0m\u001b[0mt_id\u001b[0m\u001b[0;34m,\u001b[0m \u001b[0mv_id\u001b[0m\u001b[0;34m)\u001b[0m \u001b[0;32min\u001b[0m \u001b[0menumerate\u001b[0m\u001b[0;34m(\u001b[0m\u001b[0mkf\u001b[0m\u001b[0;34m.\u001b[0m\u001b[0msplit\u001b[0m\u001b[0;34m(\u001b[0m\u001b[0mpredictor_train\u001b[0m\u001b[0;34m,\u001b[0m \u001b[0mtarget_train\u001b[0m\u001b[0;34m)\u001b[0m\u001b[0;34m)\u001b[0m\u001b[0;34m:\u001b[0m\u001b[0;34m\u001b[0m\u001b[0;34m\u001b[0m\u001b[0m\n\u001b[0m\u001b[1;32m     12\u001b[0m \u001b[0;34m\u001b[0m\u001b[0m\n\u001b[1;32m     13\u001b[0m   \u001b[0;31m# Split train and validation data\u001b[0m\u001b[0;34m\u001b[0m\u001b[0;34m\u001b[0m\u001b[0;34m\u001b[0m\u001b[0m\n",
            "\u001b[0;32m/usr/local/lib/python3.6/dist-packages/sklearn/model_selection/_split.py\u001b[0m in \u001b[0;36msplit\u001b[0;34m(self, X, y, groups)\u001b[0m\n\u001b[1;32m    728\u001b[0m         \u001b[0mto\u001b[0m \u001b[0man\u001b[0m \u001b[0minteger\u001b[0m\u001b[0;34m.\u001b[0m\u001b[0;34m\u001b[0m\u001b[0;34m\u001b[0m\u001b[0m\n\u001b[1;32m    729\u001b[0m         \"\"\"\n\u001b[0;32m--> 730\u001b[0;31m         \u001b[0my\u001b[0m \u001b[0;34m=\u001b[0m \u001b[0mcheck_array\u001b[0m\u001b[0;34m(\u001b[0m\u001b[0my\u001b[0m\u001b[0;34m,\u001b[0m \u001b[0mensure_2d\u001b[0m\u001b[0;34m=\u001b[0m\u001b[0;32mFalse\u001b[0m\u001b[0;34m,\u001b[0m \u001b[0mdtype\u001b[0m\u001b[0;34m=\u001b[0m\u001b[0;32mNone\u001b[0m\u001b[0;34m)\u001b[0m\u001b[0;34m\u001b[0m\u001b[0;34m\u001b[0m\u001b[0m\n\u001b[0m\u001b[1;32m    731\u001b[0m         \u001b[0;32mreturn\u001b[0m \u001b[0msuper\u001b[0m\u001b[0;34m(\u001b[0m\u001b[0;34m)\u001b[0m\u001b[0;34m.\u001b[0m\u001b[0msplit\u001b[0m\u001b[0;34m(\u001b[0m\u001b[0mX\u001b[0m\u001b[0;34m,\u001b[0m \u001b[0my\u001b[0m\u001b[0;34m,\u001b[0m \u001b[0mgroups\u001b[0m\u001b[0;34m)\u001b[0m\u001b[0;34m\u001b[0m\u001b[0;34m\u001b[0m\u001b[0m\n\u001b[1;32m    732\u001b[0m \u001b[0;34m\u001b[0m\u001b[0m\n",
            "\u001b[0;32m/usr/local/lib/python3.6/dist-packages/sklearn/utils/validation.py\u001b[0m in \u001b[0;36mcheck_array\u001b[0;34m(array, accept_sparse, accept_large_sparse, dtype, order, copy, force_all_finite, ensure_2d, allow_nd, ensure_min_samples, ensure_min_features, warn_on_dtype, estimator)\u001b[0m\n\u001b[1;32m    576\u001b[0m         \u001b[0;32mif\u001b[0m \u001b[0mforce_all_finite\u001b[0m\u001b[0;34m:\u001b[0m\u001b[0;34m\u001b[0m\u001b[0;34m\u001b[0m\u001b[0m\n\u001b[1;32m    577\u001b[0m             _assert_all_finite(array,\n\u001b[0;32m--> 578\u001b[0;31m                                allow_nan=force_all_finite == 'allow-nan')\n\u001b[0m\u001b[1;32m    579\u001b[0m \u001b[0;34m\u001b[0m\u001b[0m\n\u001b[1;32m    580\u001b[0m     \u001b[0;32mif\u001b[0m \u001b[0mensure_min_samples\u001b[0m \u001b[0;34m>\u001b[0m \u001b[0;36m0\u001b[0m\u001b[0;34m:\u001b[0m\u001b[0;34m\u001b[0m\u001b[0;34m\u001b[0m\u001b[0m\n",
            "\u001b[0;32m/usr/local/lib/python3.6/dist-packages/sklearn/utils/validation.py\u001b[0m in \u001b[0;36m_assert_all_finite\u001b[0;34m(X, allow_nan, msg_dtype)\u001b[0m\n\u001b[1;32m     58\u001b[0m                     \u001b[0mmsg_err\u001b[0m\u001b[0;34m.\u001b[0m\u001b[0mformat\u001b[0m\u001b[0;34m\u001b[0m\u001b[0;34m\u001b[0m\u001b[0m\n\u001b[1;32m     59\u001b[0m                     (type_err,\n\u001b[0;32m---> 60\u001b[0;31m                      msg_dtype if msg_dtype is not None else X.dtype)\n\u001b[0m\u001b[1;32m     61\u001b[0m             )\n\u001b[1;32m     62\u001b[0m     \u001b[0;31m# for object dtype data, we only check for NaNs (GH-13254)\u001b[0m\u001b[0;34m\u001b[0m\u001b[0;34m\u001b[0m\u001b[0;34m\u001b[0m\u001b[0m\n",
            "\u001b[0;31mValueError\u001b[0m: Input contains NaN, infinity or a value too large for dtype('float64')."
          ]
        }
      ]
    },
    {
      "cell_type": "code",
      "metadata": {
        "id": "JCyN7BFN15gk",
        "colab_type": "code",
        "colab": {
          "base_uri": "https://localhost:8080/",
          "height": 289
        },
        "outputId": "c96fd51c-111a-4d51-f879-43abe8cfa94b"
      },
      "source": [
        "predictor_train.info()"
      ],
      "execution_count": 88,
      "outputs": [
        {
          "output_type": "stream",
          "text": [
            "<class 'pandas.core.frame.DataFrame'>\n",
            "Int64Index: 2627 entries, 0 to 2626\n",
            "Data columns (total 9 columns):\n",
            " #   Column           Non-Null Count  Dtype  \n",
            "---  ------           --------------  -----  \n",
            " 0   Gender           2627 non-null   int64  \n",
            " 1   Ever_Married     2627 non-null   int64  \n",
            " 2   Age              2627 non-null   int64  \n",
            " 3   Graduated        2627 non-null   int64  \n",
            " 4   Profession       2627 non-null   int64  \n",
            " 5   Work_Experience  2627 non-null   float64\n",
            " 6   Spending_Score   2627 non-null   int64  \n",
            " 7   Family_Size      2627 non-null   float64\n",
            " 8   Var_1            2627 non-null   int64  \n",
            "dtypes: float64(2), int64(7)\n",
            "memory usage: 205.2 KB\n"
          ],
          "name": "stdout"
        }
      ]
    },
    {
      "cell_type": "code",
      "metadata": {
        "id": "41YUnA5Bvpq6",
        "colab_type": "code",
        "colab": {
          "base_uri": "https://localhost:8080/",
          "height": 1000
        },
        "outputId": "786ed0f9-5ada-4e81-af03-d5677c3559bf"
      },
      "source": [
        "display_unique(predictor_train)"
      ],
      "execution_count": 63,
      "outputs": [
        {
          "output_type": "stream",
          "text": [
            "No of Unique values in Gender Column are : 2\n",
            "Actual Unique Values in Gender Column are : [0 1]\n",
            "NULL Values : \n",
            "0\n",
            "Value counts : \n",
            "1    1424\n",
            "0    1203\n",
            "Name: Gender, dtype: int64\n",
            " \n",
            "No of Unique values in Ever_Married Column are : 3\n",
            "Actual Unique Values in Ever_Married Column are : [0 1 2]\n",
            "NULL Values : \n",
            "0\n",
            "Value counts : \n",
            "1    1520\n",
            "0    1057\n",
            "2      50\n",
            "Name: Ever_Married, dtype: int64\n",
            " \n",
            "No of Unique values in Age Column are : 67\n",
            "Actual Unique Values in Age Column are : [18 19 20 21 22 23 25 26 27 28 29 30 31 32 33 35 36 37 38 39 40 41 42 43\n",
            " 45 46 47 48 49 50 51 52 53 55 56 57 58 59 60 61 62 63 65 66 67 68 69 70\n",
            " 71 72 73 74 75 76 77 78 79 80 81 82 83 84 85 86 87 88 89]\n",
            "NULL Values : \n",
            "0\n",
            "Value counts : \n",
            "42    88\n",
            "28    77\n",
            "41    76\n",
            "30    76\n",
            "43    75\n",
            "      ..\n",
            "77     9\n",
            "88     9\n",
            "78     7\n",
            "81     7\n",
            "75     5\n",
            "Name: Age, Length: 67, dtype: int64\n",
            " \n",
            "No of Unique values in Graduated Column are : 3\n",
            "Actual Unique Values in Graduated Column are : [0 1 2]\n",
            "NULL Values : \n",
            "0\n",
            "Value counts : \n",
            "1    1602\n",
            "0    1001\n",
            "2      24\n",
            "Name: Graduated, dtype: int64\n",
            " \n",
            "No of Unique values in Profession Column are : 10\n",
            "Actual Unique Values in Profession Column are : [0 1 2 3 4 5 6 7 8 9]\n",
            "NULL Values : \n",
            "0\n",
            "Value counts : \n",
            "0    802\n",
            "5    418\n",
            "3    301\n",
            "1    242\n",
            "2    236\n",
            "7    221\n",
            "4    176\n",
            "8    111\n",
            "6     82\n",
            "9     38\n",
            "Name: Profession, dtype: int64\n",
            " \n",
            "No of Unique values in Work_Experience Column are : 15\n",
            "Actual Unique Values in Work_Experience Column are : [ 0.  1.  2.  3.  4.  5.  6.  7.  8.  9. 10. 11. 12. 13. 14. nan]\n",
            "NULL Values : \n",
            "269\n",
            "Value counts : \n",
            "1.0     773\n",
            "0.0     769\n",
            "8.0     149\n",
            "9.0     139\n",
            "4.0      93\n",
            "2.0      87\n",
            "3.0      82\n",
            "5.0      76\n",
            "6.0      61\n",
            "7.0      60\n",
            "14.0     21\n",
            "11.0     14\n",
            "12.0     12\n",
            "10.0     11\n",
            "13.0     11\n",
            "Name: Work_Experience, dtype: int64\n",
            " \n",
            "No of Unique values in Spending_Score Column are : 3\n",
            "Actual Unique Values in Spending_Score Column are : [0 1 2]\n",
            "NULL Values : \n",
            "0\n",
            "Value counts : \n",
            "2    1616\n",
            "0     625\n",
            "1     386\n",
            "Name: Spending_Score, dtype: int64\n",
            " \n",
            "No of Unique values in Family_Size Column are : 9\n",
            "Actual Unique Values in Family_Size Column are : [ 1.  2.  3.  4.  5.  6.  7.  8.  9. nan]\n",
            "NULL Values : \n",
            "113\n",
            "Value counts : \n",
            "2.0    768\n",
            "1.0    512\n",
            "3.0    455\n",
            "4.0    444\n",
            "5.0    200\n",
            "6.0     78\n",
            "7.0     26\n",
            "9.0     16\n",
            "8.0     15\n",
            "Name: Family_Size, dtype: int64\n",
            " \n",
            "No of Unique values in Var_1 Column are : 8\n",
            "Actual Unique Values in Var_1 Column are : [0 1 2 3 4 5 6 7]\n",
            "NULL Values : \n",
            "0\n",
            "Value counts : \n",
            "5    1672\n",
            "3     386\n",
            "2     267\n",
            "1     141\n",
            "6      66\n",
            "0      34\n",
            "7      32\n",
            "4      29\n",
            "Name: Var_1, dtype: int64\n",
            " \n"
          ],
          "name": "stdout"
        }
      ]
    },
    {
      "cell_type": "code",
      "metadata": {
        "id": "qLux2KovwnAf",
        "colab_type": "code",
        "colab": {}
      },
      "source": [
        ""
      ],
      "execution_count": null,
      "outputs": []
    }
  ]
}